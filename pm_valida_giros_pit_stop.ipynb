{
 "cells": [
  {
   "cell_type": "code",
   "execution_count": 120,
   "metadata": {},
   "outputs": [],
   "source": [
    "import pandas as pd \n",
    "import os \n",
    "import numpy as np "
   ]
  },
  {
   "cell_type": "code",
   "execution_count": 121,
   "metadata": {},
   "outputs": [],
   "source": [
    "centro = '8811456' #input(\"Introduza o centro: \")"
   ]
  },
  {
   "cell_type": "code",
   "execution_count": 122,
   "metadata": {},
   "outputs": [],
   "source": [
    "\n",
    "folder_path = os.path.join(os.path.expanduser(\"~\"), \"Downloads/Pit_stop/dados_centros\")\n",
    "\n",
    "files = [file for file in os.listdir(folder_path) if os.path.isfile(os.path.join(folder_path, file))]\n",
    "\n",
    "\n",
    "combined_df = pd.DataFrame()\n",
    "\n",
    "\n",
    "for file in files:\n",
    "    file_path = os.path.join(folder_path, file)\n",
    "    \n",
    "    \n",
    "    df = pd.read_csv(file_path, encoding=\"latin-1\", delimiter=';')\n",
    "    \n",
    "    \n",
    "    combined_df = pd.concat([combined_df, df], ignore_index=True)\n",
    "\n"
   ]
  },
  {
   "cell_type": "code",
   "execution_count": 123,
   "metadata": {},
   "outputs": [],
   "source": [
    "# -- limpeza do dataset \n",
    "df = combined_df\n",
    "df.columns=[x.lower().strip() for x in df.columns]\n",
    "df.drop_duplicates()\n",
    "df['centro'] = df['centro'].astype(str).str.replace('.0',\"\")\n",
    "df['centro'] = df['centro'].str.strip()\n",
    "df['giro'] = df['giro'].str.replace(' ', '').str.strip().str[:5]\n",
    "df['cp'] = df['cp'].str.replace(' ', '').str.strip()\n",
    "df['longitude'] = df['longitude'].str.replace('\\n', '').str.strip()\n",
    "df=df[df.latitude != '0']\n",
    "df=df[df.latitude != '0.0']\n",
    "df = df[df['latitude'] != '']\n",
    "df=df[df.cod_t_even == 'I']\n",
    "df = df[df['cp'].str.len() >= 8]"
   ]
  },
  {
   "cell_type": "code",
   "execution_count": 124,
   "metadata": {},
   "outputs": [],
   "source": [
    "df=df[df['centro']==centro]"
   ]
  },
  {
   "cell_type": "code",
   "execution_count": 125,
   "metadata": {},
   "outputs": [],
   "source": [
    "\n",
    "giro_unique_ocorrencias = df.groupby('giro')['data_criacao'].nunique().reset_index(name='N_dias')\n",
    "\n",
    "loptica_unique_ocorrencias = df.groupby('giro')['loptica'].nunique().reset_index(name='N_objetos')\n",
    "\n",
    "giros_pit_stop = pd.merge(giro_unique_ocorrencias, loptica_unique_ocorrencias, left_on='giro', right_on='giro', how='inner')"
   ]
  },
  {
   "cell_type": "code",
   "execution_count": 126,
   "metadata": {},
   "outputs": [
    {
     "name": "stdout",
     "output_type": "stream",
     "text": [
      "    cp4_prestador cp4_real  n_objetos\n",
      "0            2405     2405        669\n",
      "2            2405     2410       1118\n",
      "9            2410     2400       3310\n",
      "14           2410     2410       2880\n",
      "17           2410     2415       3819\n",
      "20           2410     2420       1451\n",
      "27           2425     2425       1752\n",
      "33           2430     2430       4391\n",
      "37           2440     2440       1205\n",
      "39           2450     2445        192\n",
      "40           2450     2450       1678\n",
      "43           2460     2460       3931\n",
      "48           2475     2475       1353\n",
      "51           2490     2435        395\n",
      "52           2490     2490        864\n",
      "56           2495     2495        502\n",
      "59           2500     2500       7345\n",
      "65           2510     2510       1032\n",
      "71           3100     3100        788\n",
      "73           3100     3105       1069\n",
      "75           DIS0     2400        130\n",
      "79           DIS0     2415         81\n",
      "83           LOCA     2410        166\n",
      "109          LR00     2420          1\n",
      "110          REDE     2400          1\n",
      "111          REDE     2410          1\n",
      "112          REDE     2415          1\n",
      "113          SHOP     2400       1090\n"
     ]
    }
   ],
   "source": [
    "import pandas as pd\n",
    "\n",
    "df['cp4_prestador'] = df['giro'].str[:4]\n",
    "df['cp4_real'] = df['cp'].str[:4]\n",
    "\n",
    "contagem_linhas = df.groupby(['cp4_prestador', 'cp4_real']).size().reset_index(name='n_objetos')\n",
    "\n",
    "soma_total_cp4_prestador = contagem_linhas.groupby('cp4_prestador')['n_objetos'].sum()\n",
    "\n",
    "contagem_linhas = pd.merge(contagem_linhas, soma_total_cp4_prestador, on='cp4_prestador', suffixes=('', '_total'))\n",
    "\n",
    "contagem_filtrada = contagem_linhas[contagem_linhas['n_objetos'] > contagem_linhas['n_objetos_total'] / 10]\n",
    "\n",
    "contagem_filtrada = contagem_filtrada.drop(columns=['n_objetos_total'])\n",
    "\n",
    "print(contagem_filtrada)\n"
   ]
  },
  {
   "cell_type": "code",
   "execution_count": 127,
   "metadata": {},
   "outputs": [
    {
     "name": "stdout",
     "output_type": "stream",
     "text": [
      "File saved at: /Users/rubenfilipemartinsdarocha/Downloads/8811456.xlsx\n"
     ]
    }
   ],
   "source": [
    "import os\n",
    "import pandas as pd\n",
    "\n",
    "downloads_path = os.path.join(os.path.expanduser(\"~\"), \"Downloads\")\n",
    "\n",
    "file_path = os.path.join(downloads_path, f'{centro}.xlsx')\n",
    "\n",
    "with pd.ExcelWriter(file_path, engine='openpyxl') as writer:\n",
    "    \n",
    "    giros_pit_stop.to_excel(writer, sheet_name='giros_pit_stop', index=False)\n",
    "    \n",
    "    contagem_filtrada.to_excel(writer, sheet_name='áreas de atuação', index=False)\n",
    "\n",
    "print(f\"File saved at: {file_path}\")\n"
   ]
  }
 ],
 "metadata": {
  "kernelspec": {
   "display_name": "Python 3",
   "language": "python",
   "name": "python3"
  },
  "language_info": {
   "codemirror_mode": {
    "name": "ipython",
    "version": 3
   },
   "file_extension": ".py",
   "mimetype": "text/x-python",
   "name": "python",
   "nbconvert_exporter": "python",
   "pygments_lexer": "ipython3",
   "version": "3.12.1"
  }
 },
 "nbformat": 4,
 "nbformat_minor": 2
}
